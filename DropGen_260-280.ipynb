{
 "cells": [
  {
   "cell_type": "code",
   "execution_count": 1,
   "id": "700e16d0",
   "metadata": {},
   "outputs": [],
   "source": [
    "\n",
    "import nbformat as nbf\n",
    "import os\n",
    "\n",
    "def modify_and_write_notebook(file_path, seed, output_folder, output_file_name):\n",
    "    # Ensure the output folder exists\n",
    "    if not os.path.exists(output_folder):\n",
    "        os.makedirs(output_folder)\n",
    "\n",
    "    # Read the content of the file\n",
    "    with open(file_path, 'r') as file:\n",
    "        content = file.read()\n",
    "\n",
    "    # Replace the seed in the env.reset() line\n",
    "    modified_content = content.replace(\"env.reset(seed = 9)\", f\"env.reset(seed = {seed})\")\n",
    "\n",
    "    # Create a new notebook\n",
    "    nb = nbf.v4.new_notebook()\n",
    "    code_cell = nbf.v4.new_code_cell(modified_content)\n",
    "    nb.cells.append(code_cell)\n",
    "\n",
    "    # Full path for the output file\n",
    "    full_output_path = os.path.join(output_folder, output_file_name)\n",
    "\n",
    "    # Write the modified content to a new notebook file in the specified folder\n",
    "    with open(full_output_path, 'w') as new_file:\n",
    "        nbf.write(nb, new_file)\n",
    "\n",
    "# File path of the original PickGNP.txt\n",
    "file_path = 'DropGNP.txt'\n",
    "output_folder = 'GenD260-280'  # Folder where the notebooks will be saved\n",
    "\n",
    "# Create notebooks with different seeds in the new folder\n",
    "for i in range(260, 280):\n",
    "    output_file_name = f'DropGNP_seed_{i}.ipynb'\n",
    "    modify_and_write_notebook(file_path, i, output_folder, output_file_name)\n"
   ]
  }
 ],
 "metadata": {
  "kernelspec": {
   "display_name": "Python 3",
   "language": "python",
   "name": "python3"
  },
  "language_info": {
   "codemirror_mode": {
    "name": "ipython",
    "version": 3
   },
   "file_extension": ".py",
   "mimetype": "text/x-python",
   "name": "python",
   "nbconvert_exporter": "python",
   "pygments_lexer": "ipython3",
   "version": "3.11.4"
  }
 },
 "nbformat": 4,
 "nbformat_minor": 5
}
